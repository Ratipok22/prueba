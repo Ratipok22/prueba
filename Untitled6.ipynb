{
  "nbformat": 4,
  "nbformat_minor": 0,
  "metadata": {
    "colab": {
      "provenance": [],
      "authorship_tag": "ABX9TyPvnCcJ5qCwlFMDILie7Hec",
      "include_colab_link": true
    },
    "kernelspec": {
      "name": "python3",
      "display_name": "Python 3"
    },
    "language_info": {
      "name": "python"
    }
  },
  "cells": [
    {
      "cell_type": "markdown",
      "metadata": {
        "id": "view-in-github",
        "colab_type": "text"
      },
      "source": [
        "<a href=\"https://colab.research.google.com/github/Ratipok22/prueba/blob/main/Untitled6.ipynb\" target=\"_parent\"><img src=\"https://colab.research.google.com/assets/colab-badge.svg\" alt=\"Open In Colab\"/></a>"
      ]
    },
    {
      "cell_type": "code",
      "execution_count": null,
      "metadata": {
        "id": "oGiavMoK0X2c"
      },
      "outputs": [],
      "source": [
        "#EXAMEN\n",
        "piso1 = [1,2,3,4,5,6,7,8,9,10]\n",
        "piso2 = [1,2,3,4,5,6,7,8,9,10]\n",
        "piso3 = [1,2,3,4,5,6,7,8,9,10]\n",
        "piso4 = [1,2,3,4,5,6,7,8,9,10]\n",
        "piso5 = [1,2,3,4,5,6,7,8,9,10]\n",
        "piso6 = [1,2,3,4,5,6,7,8,9,10]\n",
        "piso7 = [1,2,3,4,5,6,7,8,9,10]\n",
        "piso8 = [1,2,3,4,5,6,7,8,9,10]\n",
        "piso9 = [1,2,3,4,5,6,7,8,9,10]\n",
        "piso10 = [1,2,3,4,5,6,7,8,9,10]\n",
        "piso = []\n",
        "1 == piso1\n",
        "2 == piso2\n",
        "3 == piso3\n",
        "4 == piso4\n",
        "5 == piso5\n",
        "6 == piso6\n",
        "7 == piso7\n",
        "8 == piso8\n",
        "9 == piso9\n",
        "10 == piso10\n",
        "print(\"|=======================|\")\n",
        "print(\"|Bienvenido a CASA FELIZ|\")\n",
        "print(\"|=======================|\")\n",
        "print(\"Lista de opciones para proceder:\")\n",
        "sw = 1\n",
        "while sw == 1:\n",
        "   print(\"1. Comprar departamento.\")\n",
        "   print(\"2. Mostrar departamentos disponibles.\")\n",
        "   print(\"3. Ver listado de compradores.\")\n",
        "   print(\"4. Mostrar ganancias totales.\")\n",
        "   print(\"5. Salir.\")\n",
        "   op=int(input(\"Seleccione una opcion: \"))\n",
        "\n",
        "   try:\n",
        "      if (op > 0 and op < 4):\n",
        "         if op == 1:\n",
        "            print(\"En hora buena a seleccionado la opcion de comprar un departamento\")\n",
        "            Continu=int(input(\"¿Quiere continuar con la compra de departamento 1=SI 2=NO : \"))\n",
        "            if continu==1:\n",
        "             print(\"¿En que piso desea comprar?\")\n",
        "             op=int(input(\"Seleccione un piso: \"))"
      ]
    }
  ]
}