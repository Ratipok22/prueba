{
  "nbformat": 4,
  "nbformat_minor": 0,
  "metadata": {
    "colab": {
      "provenance": [],
      "authorship_tag": "ABX9TyOyvDX+F01VZjA//rkWXm25",
      "include_colab_link": true
    },
    "kernelspec": {
      "name": "python3",
      "display_name": "Python 3"
    },
    "language_info": {
      "name": "python"
    }
  },
  "cells": [
    {
      "cell_type": "markdown",
      "metadata": {
        "id": "view-in-github",
        "colab_type": "text"
      },
      "source": [
        "<a href=\"https://colab.research.google.com/github/Ratipok22/prueba/blob/main/prueba%20de%20guardado.ipynb\" target=\"_parent\"><img src=\"https://colab.research.google.com/assets/colab-badge.svg\" alt=\"Open In Colab\"/></a>"
      ]
    },
    {
      "cell_type": "code",
      "execution_count": null,
      "metadata": {
        "id": "X701Ptg-Awsq"
      },
      "outputs": [],
      "source": [
        "#PRUEBA 3 (B)\n",
        "import numpy as np\n",
        "fila = [\"Código\",\"Nombre\",\"Precio\",\"Cantidad\"]\n",
        "inventario = []\n",
        "a = 0\n",
        "while a == 0:\n",
        "  print(\"Bienvenido a la ¡¡¡TIENDA ONLINE!!!\")\n",
        "  print(\"1. Agregar producto al inventario\")\n",
        "  print(\"2. Buscar producto por código\")\n",
        "  print(\"3. Imprimir listado de productos\")\n",
        "  print(\"4. Salir del programa\")\n",
        "  try:\n",
        "    op= int(input(\"Seleccione una opción:\\n\"))\n",
        "    if (op > 0 and op< 5):\n",
        "      if op == 1:\n",
        "        a = 1\n",
        "        cod_producto= str(input(\"Escriba el código del producto: \\n\"))\n",
        "        nom_producto = str(input(\"Nombre del producto:\\n\"))\n",
        "        if len(nom_producto)<5:\n",
        "          print(\"Debe ingresar produco con al menos 5 caracteres\")\n",
        "          a=0\n",
        "        precio_producto = float(input(\"Escriba el valor del producto:\\n\"))\n",
        "        if precio_producto >0:\n",
        "          inventario.insert(2,precio_producto)\n",
        "        cantidad_producto=int(input(\"¿Cuantos productos desea agregar?:\\n\"))\n",
        "        if cantidad_producto >= 0:\n",
        "          inventario.append(cantidad_producto)\n",
        "        else:\n",
        "          print(\"¡ERROR!\\n Ingresar un numero que sea valido\")\n",
        "        inventario.insert(0,cod_producto)\n",
        "        inventario.insert(1,nom_producto)\n",
        "        a = 0\n",
        "      if op == 2:\n",
        "        a = 1\n",
        "        buscar_producto = str(input(f\"Ingrese el código del producto:\\n\"))\n",
        "        a = 0\n",
        "      if op == 3:\n",
        "        a = 1\n",
        "        print (f\"{fila}\\n{inventario}\")\n",
        "      if op == 4:\n",
        "        a = 1\n",
        "        print(\"salio del programa\")\n",
        "  except:\n",
        "    print(\"Ingrese numeros validos\")"
      ]
    },
    {
      "cell_type": "code",
      "source": [],
      "metadata": {
        "id": "h9XUi-hQ52_k"
      },
      "execution_count": null,
      "outputs": []
    }
  ]
}